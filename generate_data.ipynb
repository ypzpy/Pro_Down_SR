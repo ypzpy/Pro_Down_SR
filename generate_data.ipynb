{
 "cells": [
  {
   "cell_type": "code",
   "execution_count": 1,
   "metadata": {},
   "outputs": [],
   "source": [
    "import os\n",
    "os.environ['OMP_NUM_THREADS']='2'\n",
    "os.environ['LD_LIBRARY_PATH']=''\n",
    "os.environ['CUDA_LAUNCH_BLOCKING']='1'"
   ]
  },
  {
   "cell_type": "code",
   "execution_count": 2,
   "metadata": {},
   "outputs": [
    {
     "name": "stdout",
     "output_type": "stream",
     "text": [
      "/home/pz281@ad.eng.cam.ac.uk/mnt/PhD/Pro_Down_SR\n"
     ]
    }
   ],
   "source": [
    "%cd /home/pz281@ad.eng.cam.ac.uk/mnt/PhD/Pro_Down_SR"
   ]
  },
  {
   "cell_type": "code",
   "execution_count": 3,
   "metadata": {},
   "outputs": [
    {
     "name": "stderr",
     "output_type": "stream",
     "text": [
      "/home/pz281@ad.eng.cam.ac.uk/anaconda3/envs/torch/lib/python3.9/site-packages/tqdm/auto.py:21: TqdmWarning: IProgress not found. Please update jupyter and ipywidgets. See https://ipywidgets.readthedocs.io/en/stable/user_install.html\n",
      "  from .autonotebook import tqdm as notebook_tqdm\n"
     ]
    }
   ],
   "source": [
    "from data_generation import *\n",
    "from scipy.linalg import sqrtm\n",
    "from downscaling import *\n",
    "from utils import *"
   ]
  },
  {
   "cell_type": "markdown",
   "metadata": {},
   "source": [
    "## Generate Training Data"
   ]
  },
  {
   "cell_type": "code",
   "execution_count": 4,
   "metadata": {},
   "outputs": [
    {
     "name": "stderr",
     "output_type": "stream",
     "text": [
      "100%|██████████| 8/8 [02:17<00:00, 17.14s/it]\n",
      "100%|██████████| 8/8 [02:17<00:00, 17.18s/it]]\n",
      "100%|██████████| 8/8 [02:17<00:00, 17.21s/it]]\n",
      "100%|██████████| 8/8 [02:17<00:00, 17.20s/it]]\n",
      "100%|██████████| 8/8 [02:17<00:00, 17.21s/it]]\n",
      "100%|██████████| 8/8 [02:17<00:00, 17.21s/it]]\n",
      "100%|██████████| 8/8 [02:17<00:00, 17.21s/it]]\n",
      "100%|██████████| 8/8 [02:17<00:00, 17.21s/it]]\n",
      "100%|██████████| 8/8 [18:20<00:00, 137.56s/it]\n",
      "100%|██████████| 8/8 [02:17<00:00, 17.21s/it]\n",
      "100%|██████████| 8/8 [02:17<00:00, 17.21s/it]]\n",
      "100%|██████████| 8/8 [02:18<00:00, 17.25s/it]]\n",
      "100%|██████████| 8/8 [02:17<00:00, 17.23s/it]]\n",
      "100%|██████████| 8/8 [02:17<00:00, 17.22s/it]]\n",
      "100%|██████████| 8/8 [02:17<00:00, 17.20s/it]]\n",
      "100%|██████████| 8/8 [02:17<00:00, 17.21s/it]]\n",
      "100%|██████████| 8/8 [02:17<00:00, 17.21s/it]]\n",
      "100%|██████████| 8/8 [18:21<00:00, 137.74s/it]\n"
     ]
    }
   ],
   "source": [
    "N_low = 30\n",
    "N_high = 120\n",
    "scale = 4\n",
    "\n",
    "# Code downscaling matrix\n",
    "H = np.zeros((N_low*N_low, N_high*N_high))\n",
    "\n",
    "submatrix = np.zeros((N_low,N_high))\n",
    "for i in range(N_low):\n",
    "    submatrix[i,scale*i] = 1\n",
    "    \n",
    "for j in range(N_low):\n",
    "    H[N_low*j:N_low*(j+1),N_high*scale*j:N_high*(scale*j+1)] = submatrix\n",
    "    \n",
    "for a in [4,8]:\n",
    "    for b in tqdm(range(1,9)):\n",
    "        for c in tqdm(range(1,9)):\n",
    "            w_low = generate_data(N_low,a,b,c)[0]\n",
    "            w_high = generate_data(N_high,a,b,c)[0]\n",
    "            residual = w_low-(H@w_high.reshape(N_high*N_high)).reshape(N_low,N_low)\n",
    "            \n",
    "            if a==4 and b == 1 and c == 1:\n",
    "                total_low = w_low.reshape(1,N_low,N_low)\n",
    "                total_high = w_high.reshape(1,N_high,N_high)\n",
    "                total_residual = residual.reshape(1,N_low,N_low)\n",
    "            else:\n",
    "                total_low = np.concatenate([total_low,w_low.reshape(1,N_low,N_low)],axis=0)\n",
    "                total_high = np.concatenate([total_high,w_high.reshape(1,N_high,N_high)],axis=0)\n",
    "                total_residual = np.concatenate([total_residual,residual.reshape(1,N_low,N_low)],axis=0)"
   ]
  },
  {
   "cell_type": "code",
   "execution_count": 5,
   "metadata": {},
   "outputs": [],
   "source": [
    "with h5py.File(\"DownBy4_30_120.h5\", 'w') as hf:\n",
    "    hf.create_dataset(\"high_res\",  data=total_high)\n",
    "    hf.create_dataset(\"low_res\",  data=total_low)\n",
    "    hf.create_dataset(\"residual\", data=total_residual)"
   ]
  },
  {
   "cell_type": "code",
   "execution_count": 7,
   "metadata": {},
   "outputs": [
    {
     "data": {
      "text/plain": [
       "(400,)"
      ]
     },
     "execution_count": 7,
     "metadata": {},
     "output_type": "execute_result"
    }
   ],
   "source": [
    "create_forcing_term(20,8,3,3).shape"
   ]
  },
  {
   "cell_type": "code",
   "execution_count": 4,
   "metadata": {},
   "outputs": [
    {
     "name": "stderr",
     "output_type": "stream",
     "text": [
      "100%|██████████| 8/8 [00:00<00:00, 30.09it/s]\n",
      "100%|██████████| 8/8 [00:00<00:00, 29.10it/s]\n",
      "100%|██████████| 8/8 [00:00<00:00, 29.62it/s]\n",
      "100%|██████████| 8/8 [00:00<00:00, 29.91it/s]\n",
      "100%|██████████| 8/8 [00:00<00:00, 28.93it/s]\n",
      "100%|██████████| 8/8 [00:00<00:00, 28.66it/s]\n",
      "100%|██████████| 8/8 [00:00<00:00, 29.83it/s]\n",
      "100%|██████████| 8/8 [00:00<00:00, 29.69it/s]\n",
      "100%|██████████| 8/8 [00:02<00:00,  3.66it/s]\n",
      "100%|██████████| 8/8 [00:00<00:00, 29.90it/s]\n",
      "100%|██████████| 8/8 [00:00<00:00, 29.19it/s]\n",
      "100%|██████████| 8/8 [00:00<00:00, 29.55it/s]\n",
      "100%|██████████| 8/8 [00:00<00:00, 29.41it/s]\n",
      "100%|██████████| 8/8 [00:00<00:00, 28.67it/s]\n",
      "100%|██████████| 8/8 [00:00<00:00, 26.58it/s]\n",
      "100%|██████████| 8/8 [00:00<00:00, 28.77it/s]\n",
      "100%|██████████| 8/8 [00:00<00:00, 30.11it/s]\n",
      "100%|██████████| 8/8 [00:02<00:00,  3.60it/s]\n"
     ]
    }
   ],
   "source": [
    "N_low = 30\n",
    "N_high = 120\n",
    "scale = 4\n",
    "\n",
    "# Code downscaling matrix\n",
    "H = np.zeros((N_low*N_low, N_high*N_high))\n",
    "\n",
    "submatrix = np.zeros((N_low,N_high))\n",
    "for i in range(N_low):\n",
    "    submatrix[i,scale*i] = 1\n",
    "    \n",
    "for j in range(N_low):\n",
    "    H[N_low*j:N_low*(j+1),N_high*scale*j:N_high*(scale*j+1)] = submatrix\n",
    "    \n",
    "for a in [4,8]:\n",
    "    for b in tqdm(range(1,9)):\n",
    "        for c in tqdm(range(1,9)):\n",
    "            w_low = generate_data(N_low,a,b,c)[0]\n",
    "            b_high = create_forcing_term(N_high,a,b,c)\n",
    "            \n",
    "            if a==4 and b == 1 and c == 1:\n",
    "                total_low = w_low.reshape(1,N_low,N_low)\n",
    "                total_forcing = b_high.reshape(1,N_high**2,1)\n",
    "            else:\n",
    "                total_low = np.concatenate([total_low,w_low.reshape(1,N_low,N_low)],axis=0)\n",
    "                total_forcing = np.concatenate([total_forcing,b_high.reshape(1,N_high**2,1)],axis=0)"
   ]
  },
  {
   "cell_type": "code",
   "execution_count": 5,
   "metadata": {},
   "outputs": [],
   "source": [
    "with h5py.File(\"data/30_120_low_forcing.h5\", 'w') as hf:\n",
    "    hf.create_dataset(\"low_res\",  data=total_low)\n",
    "    hf.create_dataset(\"forcing\", data=total_forcing)"
   ]
  },
  {
   "cell_type": "code",
   "execution_count": null,
   "metadata": {},
   "outputs": [],
   "source": []
  }
 ],
 "metadata": {
  "kernelspec": {
   "display_name": "torch",
   "language": "python",
   "name": "python3"
  },
  "language_info": {
   "codemirror_mode": {
    "name": "ipython",
    "version": 3
   },
   "file_extension": ".py",
   "mimetype": "text/x-python",
   "name": "python",
   "nbconvert_exporter": "python",
   "pygments_lexer": "ipython3",
   "version": "3.9.18"
  }
 },
 "nbformat": 4,
 "nbformat_minor": 2
}
